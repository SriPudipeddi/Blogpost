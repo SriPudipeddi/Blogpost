{
  "cells": [
    {
      "cell_type": "markdown",
      "source": [
        "The types module [https://github.com/topper-123/Articles/blob/master/New-interesting-data-types-in-Python3.rst] in Python allows us to create custom dynamic types. In this blogpost, we will learn about MappingProxyType class from the types module by creating a proxy dictionary. Why would we need a proxy dictionary? The MappingProxyType creates a read only copy of dictionary that protects the original dictionary from any updates. In a large application, it is possible to accidentally modify the content of a mutable data structure like a dictionary. By converting a dictionary to read-only, we ensure that its value cannot be tampered. The original dictionary can be mutated but the read only MappingProxyType cannot be mutated. "
      ],
      "metadata": {}
    },
    {
      "cell_type": "markdown",
      "source": [
        "In the below code, we create a dictionary called D1 with two key-value pairs. We supply D1 to MappingProxyType to create a new dictionary that is a proxy to D1. "
      ],
      "metadata": {}
    },
    {
      "cell_type": "code",
      "source": [
        "import types\n",
        "D1 = {'a' : 100, 'b' : 110} \n",
        "# D1 is a dictionary that is created in Python 3.5, for this reason it is not an ordered dictionary\n",
        "D2 = types.MappingProxyType(D1) # D2 is a read only proxy of D1 \n",
        "print(D1, D2)"
      ],
      "outputs": [
        {
          "output_type": "stream",
          "name": "stdout",
          "text": [
            "{'a': 100, 'b': 110} {'a': 100, 'b': 110}\n"
          ]
        }
      ],
      "execution_count": 4,
      "metadata": {}
    },
    {
      "cell_type": "markdown",
      "source": [
        "Since D1 is a dictionary, we can update D1 by assigning a new key-value pair to it."
      ],
      "metadata": {}
    },
    {
      "cell_type": "code",
      "source": [
        "D1['c'] = 120 # updating D1"
      ],
      "outputs": [],
      "execution_count": 5,
      "metadata": {}
    },
    {
      "cell_type": "markdown",
      "source": [
        "When we print D2 notice that D2 is updated as it points to D1 via the proxy. "
      ],
      "metadata": {}
    },
    {
      "cell_type": "code",
      "source": [
        "print(D2) # D2 was updated when we added a new key-value pair to D1"
      ],
      "outputs": [
        {
          "output_type": "stream",
          "name": "stdout",
          "text": [
            "{'a': 100, 'c': 120, 'b': 110}\n"
          ]
        }
      ],
      "execution_count": 6,
      "metadata": {}
    },
    {
      "cell_type": "markdown",
      "source": [
        "When we try to update D2 by assigning a new key-value pair, the TypeError exception is raised because D2 is a read only proxy of D1. "
      ],
      "metadata": {}
    },
    {
      "cell_type": "code",
      "source": [
        "D2['d'] = 130 # can't add a new key-value pair to D2"
      ],
      "outputs": [
        {
          "output_type": "error",
          "ename": "TypeError",
          "evalue": "'mappingproxy' object does not support item assignment",
          "traceback": [
            "\u001b[1;31m---------------------------------------------------------------------------\u001b[0m",
            "\u001b[1;31mTypeError\u001b[0m                                 Traceback (most recent call last)",
            "\u001b[1;32m<ipython-input-7-e1ea60b8061d>\u001b[0m in \u001b[0;36m<module>\u001b[1;34m()\u001b[0m\n\u001b[1;32m----> 1\u001b[1;33m \u001b[0mD2\u001b[0m\u001b[1;33m[\u001b[0m\u001b[1;34m'd'\u001b[0m\u001b[1;33m]\u001b[0m \u001b[1;33m=\u001b[0m \u001b[1;36m130\u001b[0m \u001b[1;31m# can't add a new key-value pair to D2\u001b[0m\u001b[1;33m\u001b[0m\u001b[0m\n\u001b[0m",
            "\u001b[1;31mTypeError\u001b[0m: 'mappingproxy' object does not support item assignment"
          ]
        }
      ],
      "execution_count": 7,
      "metadata": {}
    },
    {
      "cell_type": "markdown",
      "source": [
        "When we try to update an existing key in D2, again TypeError exception is raised because D2 is a read only proxy of D1. "
      ],
      "metadata": {}
    },
    {
      "cell_type": "code",
      "source": [
        "D2['c'] = 102 # can't assign a new value to existing key in D2"
      ],
      "outputs": [
        {
          "output_type": "error",
          "ename": "TypeError",
          "evalue": "'mappingproxy' object does not support item assignment",
          "traceback": [
            "\u001b[1;31m---------------------------------------------------------------------------\u001b[0m",
            "\u001b[1;31mTypeError\u001b[0m                                 Traceback (most recent call last)",
            "\u001b[1;32m<ipython-input-8-fd217326f187>\u001b[0m in \u001b[0;36m<module>\u001b[1;34m()\u001b[0m\n\u001b[1;32m----> 1\u001b[1;33m \u001b[0mD2\u001b[0m\u001b[1;33m[\u001b[0m\u001b[1;34m'c'\u001b[0m\u001b[1;33m]\u001b[0m \u001b[1;33m=\u001b[0m \u001b[1;36m102\u001b[0m \u001b[1;31m# can't assign a new value to existing key in D2\u001b[0m\u001b[1;33m\u001b[0m\u001b[0m\n\u001b[0m",
            "\u001b[1;31mTypeError\u001b[0m: 'mappingproxy' object does not support item assignment"
          ]
        }
      ],
      "execution_count": 8,
      "metadata": {}
    },
    {
      "cell_type": "markdown",
      "source": [
        "In the next few examples, we will demonstrate that a MappingProxyType and dictionary are similar by calling methods that we normally use with dictionaries. For example, we can access the key and values from D2 by using the items() method just like in a regular dictionary. Below, we loop through the D2.items() and obtain each key and value and then print them. "
      ],
      "metadata": {}
    },
    {
      "cell_type": "code",
      "source": [
        "# we can loop through key-values in D2\n",
        "for k, v in D2.items():\n",
        "    print(k, v)"
      ],
      "outputs": [
        {
          "output_type": "stream",
          "name": "stdout",
          "text": [
            "a 100\n",
            "c 120\n",
            "b 110\n"
          ]
        }
      ],
      "execution_count": 9,
      "metadata": {}
    },
    {
      "cell_type": "markdown",
      "source": [
        "We are checking whether key 'a' is in D2 by using the 'in' membership operator. Since 'a' is a key in D2, 'a' in D2 will return True. "
      ],
      "metadata": {}
    },
    {
      "cell_type": "code",
      "source": [
        "# checking membership \n",
        "print('a' in D2)"
      ],
      "outputs": [
        {
          "output_type": "stream",
          "name": "stdout",
          "text": [
            "True\n"
          ]
        }
      ],
      "execution_count": 10,
      "metadata": {}
    },
    {
      "cell_type": "markdown",
      "source": [
        "We can use the length function to determine the number of key-values in D2."
      ],
      "metadata": {}
    },
    {
      "cell_type": "code",
      "source": [
        "print(len(D2)) # returns the number of key-values in D2"
      ],
      "outputs": [
        {
          "output_type": "stream",
          "name": "stdout",
          "text": [
            "3\n"
          ]
        }
      ],
      "execution_count": 11,
      "metadata": {}
    },
    {
      "cell_type": "markdown",
      "source": [
        "We create a shallow copy of D2 and call it D3. Notice that the id of D3 and id of D2 are  same. "
      ],
      "metadata": {}
    },
    {
      "cell_type": "code",
      "source": [
        "D3 = D2\n",
        "print(id(D3), id(D2))"
      ],
      "outputs": [
        {
          "output_type": "stream",
          "name": "stdout",
          "text": [
            "2921153002760 2921153002760\n"
          ]
        }
      ],
      "execution_count": 12,
      "metadata": {}
    },
    {
      "cell_type": "markdown",
      "source": [
        "Since D3 is a shallow copy of D2, which is a proxy of D1. When we add a new key-value to D1, D2 and D3 also get updated as shown in the output."
      ],
      "metadata": {}
    },
    {
      "cell_type": "code",
      "source": [
        "D1['e'] = 160\n",
        "print(\"D1 - \", D1)\n",
        "print(\"D2 - \", D2)\n",
        "print(\"D3 - \", D3)"
      ],
      "outputs": [
        {
          "output_type": "stream",
          "name": "stdout",
          "text": [
            "D1 -  {'a': 100, 'c': 120, 'e': 160, 'b': 110}\n",
            "D2 -  {'a': 100, 'c': 120, 'e': 160, 'b': 110}\n",
            "D3 -  {'a': 100, 'c': 120, 'e': 160, 'b': 110}\n"
          ]
        }
      ],
      "execution_count": 13,
      "metadata": {}
    },
    {
      "cell_type": "markdown",
      "source": [
        "We can create a copy of D2 by using the copy() method and call it D4. This copy can be mutated while the original cannot be mutated."
      ],
      "metadata": {}
    },
    {
      "cell_type": "code",
      "source": [
        "D4 = D2.copy() # D3 is a copy of D2"
      ],
      "outputs": [],
      "execution_count": 14,
      "metadata": {}
    },
    {
      "cell_type": "markdown",
      "source": [
        "Any change made to D4, will not affect D1 or D2. Below we are updating the value for key 'c' in D4 and notice that neither D1 nor D2 will be updated. "
      ],
      "metadata": {}
    },
    {
      "cell_type": "code",
      "source": [
        "D4['c'] = 102\n",
        "print(\"D1 - \", D1)\n",
        "print(\"D2 - \", D2)\n",
        "print(\"D4 - \", D4)"
      ],
      "outputs": [
        {
          "output_type": "stream",
          "name": "stdout",
          "text": [
            "D1 -  {'a': 100, 'c': 120, 'e': 160, 'b': 110}\n",
            "D2 -  {'a': 100, 'c': 120, 'e': 160, 'b': 110}\n",
            "D4 -  {'a': 100, 'c': 102, 'b': 110, 'e': 160}\n"
          ]
        }
      ],
      "execution_count": 15,
      "metadata": {}
    },
    {
      "cell_type": "markdown",
      "source": [
        "Since D4 is an independent copy and is not related to D1 or D2, any change to D1 will not be reflected in D4. Adding a new key-value to D1. We are printing D1, D2 and D4. Notice that D1 and D2 are updated but not D4. "
      ],
      "metadata": {}
    },
    {
      "cell_type": "code",
      "source": [
        "D1['d'] = 150\n",
        "print(\"D1 - \", D1)\n",
        "print(\"D2 - \", D2)\n",
        "print(\"D4 - \", D4)"
      ],
      "outputs": [
        {
          "output_type": "stream",
          "name": "stdout",
          "text": [
            "D1 -  {'a': 100, 'c': 120, 'e': 160, 'b': 110, 'd': 150}\n",
            "D2 -  {'a': 100, 'c': 120, 'e': 160, 'b': 110, 'd': 150}\n",
            "D4 -  {'a': 100, 'c': 102, 'b': 110, 'e': 160}\n"
          ]
        }
      ],
      "execution_count": 16,
      "metadata": {}
    },
    {
      "cell_type": "markdown",
      "source": [
        "We are printing the ids of all the four dictionaries. Even though D2 points to D1, D2 is an object by itself so it has a different id. Since D3 is a shallow copy of D2, its id is same as D2's. Since D4 is a deep copy of D2, its id is different. "
      ],
      "metadata": {}
    },
    {
      "cell_type": "code",
      "source": [
        "print(id(D1), id(D2), id(D3), id(D4))"
      ],
      "outputs": [
        {
          "output_type": "stream",
          "name": "stdout",
          "text": [
            "2921153832968 2921153002760 2921153002760 2921153833416\n"
          ]
        }
      ],
      "execution_count": 18,
      "metadata": {}
    },
    {
      "cell_type": "markdown",
      "source": [
        "In this blogpost we saw an example on when to use MappingProxyType from the types module."
      ],
      "metadata": {}
    },
    {
      "cell_type": "code",
      "source": [],
      "outputs": [],
      "execution_count": null,
      "metadata": {}
    }
  ],
  "metadata": {
    "kernelspec": {
      "name": "python3",
      "language": "python",
      "display_name": "Python 3"
    },
    "language_info": {
      "name": "python",
      "version": "3.6.0",
      "mimetype": "text/x-python",
      "codemirror_mode": {
        "name": "ipython",
        "version": 3
      },
      "pygments_lexer": "ipython3",
      "nbconvert_exporter": "python",
      "file_extension": ".py"
    },
    "widgets": {
      "state": {},
      "version": "1.1.2"
    },
    "kernel_info": {
      "name": "python3"
    },
    "nteract": {
      "version": "0.9.1"
    }
  },
  "nbformat": 4,
  "nbformat_minor": 2
}